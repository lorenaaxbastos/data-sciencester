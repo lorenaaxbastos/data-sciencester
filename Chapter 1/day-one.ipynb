{
 "cells": [
  {
   "cell_type": "markdown",
   "id": "e41fde2e-ad80-4a07-bd6a-6a5dd2072a5a",
   "metadata": {},
   "source": [
    "## Problem statement: Identifying key connectors among data scientists"
   ]
  },
  {
   "cell_type": "code",
   "execution_count": 23,
   "id": "9bc68318-d386-416b-a3ac-db8a3caa2546",
   "metadata": {},
   "outputs": [],
   "source": [
    "from pprint import pprint"
   ]
  },
  {
   "cell_type": "code",
   "execution_count": 24,
   "id": "826d56ba-e2ab-4628-9b19-baf2b2f3ac25",
   "metadata": {},
   "outputs": [
    {
     "name": "stdout",
     "output_type": "stream",
     "text": [
      "{0: [1, 2],\n",
      " 1: [0, 2, 3],\n",
      " 2: [0, 1, 3],\n",
      " 3: [1, 2, 4],\n",
      " 4: [3, 5],\n",
      " 5: [4, 6, 7],\n",
      " 6: [5, 8],\n",
      " 7: [5, 8],\n",
      " 8: [6, 7, 9],\n",
      " 9: [8]}\n"
     ]
    }
   ],
   "source": [
    "# datadump from Data Sciencester network\n",
    "users = [\n",
    "    {\"id\": 0, \"name\": \"Hero\"},\n",
    "    {\"id\": 1, \"name\": \"Dunn\"},\n",
    "    {\"id\": 2, \"name\": \"Sue\"},\n",
    "    {\"id\": 3, \"name\": \"Chi\"},\n",
    "    {\"id\": 4, \"name\": \"Thor\"},\n",
    "    {\"id\": 5, \"name\": \"Clive\"},\n",
    "    {\"id\": 6, \"name\": \"Hicks\"},\n",
    "    {\"id\": 7, \"name\": \"Devin\"},\n",
    "    {\"id\": 8, \"name\": \"Kate\"},\n",
    "    {\"id\": 9, \"name\": \"Klein\"},\n",
    "]\n",
    "friendship_pairs = [(0, 1), (0, 2), (1, 2), (1, 3), (2, 3), (3, 4),\n",
    "                    (4, 5), (5, 6), (5, 7), (6, 8), (7, 8), (8, 9)]\n",
    "\n",
    "# improving friends lookout by id\n",
    "friendships = {}\n",
    "\n",
    "for i, j in friendship_pairs:\n",
    "    friendships.setdefault(i, []).append(j)\n",
    "    friendships.setdefault(j, []).append(i)\n",
    "\n",
    "pprint(friendships)"
   ]
  },
  {
   "cell_type": "markdown",
   "id": "ae3ac9a3-2cfd-4c05-8036-1edf31bf15e1",
   "metadata": {},
   "source": [
    "### Determining the average number of connections"
   ]
  },
  {
   "cell_type": "code",
   "execution_count": 9,
   "id": "33e3391a-1873-41b7-b46b-ca1f9d0c1548",
   "metadata": {},
   "outputs": [
    {
     "name": "stdout",
     "output_type": "stream",
     "text": [
      "Average number of connections: 2.4\n"
     ]
    }
   ],
   "source": [
    "avg_connections = sum(len(friends) for friends in friendships.values()) / len(friendships)\n",
    "print(\"Average number of connections:\", round(average_connections, 2))"
   ]
  },
  {
   "cell_type": "markdown",
   "id": "631dd833-41e5-453f-8be2-45f405e33fe3",
   "metadata": {},
   "source": [
    "### Identifying the most connected individual\n",
    "\r\n",
    "This concept is commonly referred to as degree centrality."
   ]
  },
  {
   "cell_type": "code",
   "execution_count": 16,
   "id": "22a735a1-a1ca-4346-b324-93ffc7831f54",
   "metadata": {},
   "outputs": [
    {
     "name": "stdout",
     "output_type": "stream",
     "text": [
      "List of connections, sorted from the most connected to the least connected:\n",
      "[(1, 3), (2, 3), (3, 3), (5, 3), (8, 3), (0, 2), (4, 2), (6, 2), (7, 2), (9, 1)]\n"
     ]
    }
   ],
   "source": [
    "connections_by_id = [(id, len(friends)) for id, friends in friendships.items()]\n",
    "connections_by_id.sort(key=lambda pair: pair[1], reverse=True)\n",
    "print(\"List of connections, sorted from the most connected to the least connected:\\n\", connections_by_id, sep=\"\")"
   ]
  },
  {
   "cell_type": "code",
   "execution_count": 48,
   "id": "318b464e-9737-461e-a6aa-f9d5af6ce55e",
   "metadata": {},
   "outputs": [
    {
     "data": {
      "text/plain": [
       "{3}"
      ]
     },
     "execution_count": 48,
     "metadata": {},
     "output_type": "execute_result"
    }
   ],
   "source": []
  },
  {
   "cell_type": "code",
   "execution_count": null,
   "id": "e8fab513-7e65-4504-832e-9ed1f5fb314c",
   "metadata": {},
   "outputs": [],
   "source": []
  }
 ],
 "metadata": {
  "kernelspec": {
   "display_name": "Python 3 (ipykernel)",
   "language": "python",
   "name": "python3"
  },
  "language_info": {
   "codemirror_mode": {
    "name": "ipython",
    "version": 3
   },
   "file_extension": ".py",
   "mimetype": "text/x-python",
   "name": "python",
   "nbconvert_exporter": "python",
   "pygments_lexer": "ipython3",
   "version": "3.12.1"
  }
 },
 "nbformat": 4,
 "nbformat_minor": 5
}
