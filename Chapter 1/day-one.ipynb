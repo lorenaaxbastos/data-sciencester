{
 "cells": [
  {
   "cell_type": "code",
   "execution_count": 1,
   "id": "9bc68318-d386-416b-a3ac-db8a3caa2546",
   "metadata": {},
   "outputs": [],
   "source": [
    "from pprint import pprint"
   ]
  },
  {
   "cell_type": "markdown",
   "id": "e41fde2e-ad80-4a07-bd6a-6a5dd2072a5a",
   "metadata": {},
   "source": [
    "## Problem statement: Identifying key connectors among data scientists"
   ]
  },
  {
   "cell_type": "code",
   "execution_count": 2,
   "id": "826d56ba-e2ab-4628-9b19-baf2b2f3ac25",
   "metadata": {},
   "outputs": [
    {
     "name": "stdout",
     "output_type": "stream",
     "text": [
      "{0: [1, 2],\n",
      " 1: [0, 2, 3],\n",
      " 2: [0, 1, 3],\n",
      " 3: [1, 2, 4],\n",
      " 4: [3, 5],\n",
      " 5: [4, 6, 7],\n",
      " 6: [5, 8],\n",
      " 7: [5, 8],\n",
      " 8: [6, 7, 9],\n",
      " 9: [8]}\n"
     ]
    }
   ],
   "source": [
    "# datadump from Data Sciencester network\n",
    "users = [\n",
    "    {\"id\": 0, \"name\": \"Hero\"},\n",
    "    {\"id\": 1, \"name\": \"Dunn\"},\n",
    "    {\"id\": 2, \"name\": \"Sue\"},\n",
    "    {\"id\": 3, \"name\": \"Chi\"},\n",
    "    {\"id\": 4, \"name\": \"Thor\"},\n",
    "    {\"id\": 5, \"name\": \"Clive\"},\n",
    "    {\"id\": 6, \"name\": \"Hicks\"},\n",
    "    {\"id\": 7, \"name\": \"Devin\"},\n",
    "    {\"id\": 8, \"name\": \"Kate\"},\n",
    "    {\"id\": 9, \"name\": \"Klein\"},\n",
    "]\n",
    "friendship_pairs = [(0, 1), (0, 2), (1, 2), (1, 3), (2, 3), (3, 4),\n",
    "                    (4, 5), (5, 6), (5, 7), (6, 8), (7, 8), (8, 9)]\n",
    "interests = [\n",
    "    (0, \"Hadoop\"), (0, \"Big Data\"), (0, \"HBase\"), (0, \"Java\"),\n",
    "    (0, \"Spark\"), (0, \"Storm\"), (0, \"Cassandra\"),\n",
    "    (1, \"NoSQL\"), (1, \"MongoDB\"), (1, \"Cassandra\"), (1, \"HBase\"),\n",
    "    (1, \"Postgres\"), (2, \"Python\"), (2, \"scikit-learn\"), (2, \"scipy\"),\n",
    "    (2, \"numpy\"), (2, \"statsmodel\"), (2, \"pandas\"), (3, \"R\"), (3, \"Python\"),\n",
    "    (3, \"statistics\"), (3, \"regression\"), (3, \"probability\"),\n",
    "    (4, \"machine learning\"), (4, \"regression\"), (4, \"decision trees\"),\n",
    "    (4, \"libsvm\"), (5, \"Python\"), (5, \"R\"), (5, \"Java\"), (5, \"C++\"),\n",
    "    (5, \"Haskell\"), (5, \"programming languages\"), (6, \"statistics\"),\n",
    "    (6, \"probability\"), (6, \"mathematics\"), (6, \"theory\"),\n",
    "    (7, \"machine learning\"), (7, \"scikit-learn\"), (7, \"Mahout\"),\n",
    "    (7, \"neural networks\"), (8, \"neural networks\"), (8, \"deep learning\"),\n",
    "    (8, \"Big Data\"), (8, \"artificial intelligence\"), (9, \"Hadoop\"),\n",
    "    (9, \"Java\"), (9, \"MapReduce\"), (9, \"Big Data\")\n",
    "]\n",
    "\n",
    "# improving friends lookout by id\n",
    "friendships = {}\n",
    "\n",
    "for i, j in friendship_pairs:\n",
    "    friendships.setdefault(i, []).append(j)\n",
    "    friendships.setdefault(j, []).append(i)\n",
    "\n",
    "pprint(friendships)"
   ]
  },
  {
   "cell_type": "markdown",
   "id": "ae3ac9a3-2cfd-4c05-8036-1edf31bf15e1",
   "metadata": {},
   "source": [
    "### Determining the average number of connections"
   ]
  },
  {
   "cell_type": "code",
   "execution_count": 3,
   "id": "33e3391a-1873-41b7-b46b-ca1f9d0c1548",
   "metadata": {},
   "outputs": [
    {
     "name": "stdout",
     "output_type": "stream",
     "text": [
      "Average number of connections: 2.4\n"
     ]
    }
   ],
   "source": [
    "avg_connections = sum(len(friends) for friends in friendships.values()) / len(friendships)\n",
    "print(\"Average number of connections:\", round(avg_connections, 2))"
   ]
  },
  {
   "cell_type": "markdown",
   "id": "631dd833-41e5-453f-8be2-45f405e33fe3",
   "metadata": {},
   "source": [
    "### Identifying the most connected individual\n",
    "\r\n",
    "This concept is commonly referred to as degree centrality."
   ]
  },
  {
   "cell_type": "code",
   "execution_count": 4,
   "id": "22a735a1-a1ca-4346-b324-93ffc7831f54",
   "metadata": {},
   "outputs": [
    {
     "name": "stdout",
     "output_type": "stream",
     "text": [
      "List of connections, sorted from the most connected to the least connected:\n",
      "[(1, 3), (2, 3), (3, 3), (5, 3), (8, 3), (0, 2), (4, 2), (6, 2), (7, 2), (9, 1)]\n"
     ]
    }
   ],
   "source": [
    "connections_by_id = [(id, len(friends)) for id, friends in friendships.items()]\n",
    "connections_by_id.sort(key=lambda pair: pair[1], reverse=True)\n",
    "print(\"List of connections, sorted from the most connected to the least connected:\\n\", connections_by_id, sep=\"\")"
   ]
  },
  {
   "cell_type": "markdown",
   "id": "f5b0f1d1-0721-43b2-a0aa-a3ce58e66f54",
   "metadata": {},
   "source": [
    "## Problem statement: Generating friends suggestions"
   ]
  },
  {
   "cell_type": "markdown",
   "id": "42f52ed6-0646-483e-a87c-53cf77385859",
   "metadata": {},
   "source": [
    "### Derived from shared connections"
   ]
  },
  {
   "cell_type": "code",
   "execution_count": 5,
   "id": "d6cb9916-e8a0-443c-96f9-434209a1d82b",
   "metadata": {},
   "outputs": [],
   "source": [
    "from collections import Counter"
   ]
  },
  {
   "cell_type": "code",
   "execution_count": 6,
   "id": "cad0bc6f-7410-4fe9-8695-157ce713754f",
   "metadata": {},
   "outputs": [
    {
     "name": "stdout",
     "output_type": "stream",
     "text": [
      "{0: {3: 2},\n",
      " 1: {4: 1},\n",
      " 2: {4: 1},\n",
      " 3: {0: 2, 5: 1},\n",
      " 4: {1: 1, 2: 1, 6: 1, 7: 1},\n",
      " 5: {3: 1, 8: 2},\n",
      " 6: {4: 1, 7: 2, 9: 1},\n",
      " 7: {4: 1, 6: 2, 9: 1},\n",
      " 8: {5: 2},\n",
      " 9: {6: 1, 7: 1}}\n"
     ]
    }
   ],
   "source": [
    "def friends_of_friends_count(id):\n",
    "    return Counter(friend_of_friend # user may know this person\n",
    "                for friend in friendships[id]\n",
    "                for friend_of_friend in friendships[friend]\n",
    "                if friend_of_friend not in friendships[id] # not the user's friends\n",
    "                and friend_of_friend != id) # not the user itself\n",
    "\n",
    "suggested_by_common_friends = {\n",
    "    id:dict(friends_of_friends_count(id))\n",
    "    for id in friendships\n",
    "}\n",
    "\n",
    "pprint(suggested_by_common_friends)"
   ]
  },
  {
   "cell_type": "markdown",
   "id": "d2a75afa-7fa6-46e9-85cd-8c7bf45bd30f",
   "metadata": {},
   "source": [
    "### Derived from common interests"
   ]
  },
  {
   "cell_type": "code",
   "execution_count": 7,
   "id": "318b464e-9737-461e-a6aa-f9d5af6ce55e",
   "metadata": {},
   "outputs": [
    {
     "name": "stdout",
     "output_type": "stream",
     "text": [
      "{'Big Data': [0, 8, 9],\n",
      " 'C++': [5],\n",
      " 'Cassandra': [0, 1],\n",
      " 'HBase': [0, 1],\n",
      " 'Hadoop': [0, 9],\n",
      " 'Haskell': [5],\n",
      " 'Java': [0, 5, 9],\n",
      " 'Mahout': [7],\n",
      " 'MapReduce': [9],\n",
      " 'MongoDB': [1],\n",
      " 'NoSQL': [1],\n",
      " 'Postgres': [1],\n",
      " 'Python': [2, 3, 5],\n",
      " 'R': [3, 5],\n",
      " 'Spark': [0],\n",
      " 'Storm': [0],\n",
      " 'artificial intelligence': [8],\n",
      " 'decision trees': [4],\n",
      " 'deep learning': [8],\n",
      " 'libsvm': [4],\n",
      " 'machine learning': [4, 7],\n",
      " 'mathematics': [6],\n",
      " 'neural networks': [7, 8],\n",
      " 'numpy': [2],\n",
      " 'pandas': [2],\n",
      " 'probability': [3, 6],\n",
      " 'programming languages': [5],\n",
      " 'regression': [3, 4],\n",
      " 'scikit-learn': [2, 7],\n",
      " 'scipy': [2],\n",
      " 'statistics': [3, 6],\n",
      " 'statsmodel': [2],\n",
      " 'theory': [6]}\n"
     ]
    }
   ],
   "source": [
    "ids_by_interests = {}\n",
    "\n",
    "for id, interest in interests:\n",
    "    ids_by_interests.setdefault(interest, []).append(id)\n",
    "\n",
    "pprint(ids_by_interests)"
   ]
  },
  {
   "cell_type": "code",
   "execution_count": 8,
   "id": "5e418fe9-8188-470d-a877-6fc58b9c3243",
   "metadata": {},
   "outputs": [
    {
     "name": "stdout",
     "output_type": "stream",
     "text": [
      "{0: ['Hadoop', 'Big Data', 'HBase', 'Java', 'Spark', 'Storm', 'Cassandra'],\n",
      " 1: ['NoSQL', 'MongoDB', 'Cassandra', 'HBase', 'Postgres'],\n",
      " 2: ['Python', 'scikit-learn', 'scipy', 'numpy', 'statsmodel', 'pandas'],\n",
      " 3: ['R', 'Python', 'statistics', 'regression', 'probability'],\n",
      " 4: ['machine learning', 'regression', 'decision trees', 'libsvm'],\n",
      " 5: ['Python', 'R', 'Java', 'C++', 'Haskell', 'programming languages'],\n",
      " 6: ['statistics', 'probability', 'mathematics', 'theory'],\n",
      " 7: ['machine learning', 'scikit-learn', 'Mahout', 'neural networks'],\n",
      " 8: ['neural networks', 'deep learning', 'Big Data', 'artificial intelligence'],\n",
      " 9: ['Hadoop', 'Java', 'MapReduce', 'Big Data']}\n"
     ]
    }
   ],
   "source": [
    "interests_by_id = {}\n",
    "\n",
    "for id, interest in interests:\n",
    "    interests_by_id.setdefault(id, []).append(interest)\n",
    "\n",
    "pprint(interests_by_id)"
   ]
  },
  {
   "cell_type": "code",
   "execution_count": 9,
   "id": "ee92843f-1a5c-4b23-ba70-b311ce141fe4",
   "metadata": {},
   "outputs": [
    {
     "name": "stdout",
     "output_type": "stream",
     "text": [
      "Counter({9: 3, 1: 2, 8: 1, 5: 1})\n"
     ]
    }
   ],
   "source": [
    "def most_common_interests_with(id):\n",
    "    return (Counter(other_id\n",
    "                    for interest in interests_by_id[id]\n",
    "                    for other_id in ids_by_interests[interest]\n",
    "                    if other_id != id))\n",
    "\n",
    "pprint(most_common_interests_with(0))"
   ]
  }
 ],
 "metadata": {
  "kernelspec": {
   "display_name": "Python 3 (ipykernel)",
   "language": "python",
   "name": "python3"
  },
  "language_info": {
   "codemirror_mode": {
    "name": "ipython",
    "version": 3
   },
   "file_extension": ".py",
   "mimetype": "text/x-python",
   "name": "python",
   "nbconvert_exporter": "python",
   "pygments_lexer": "ipython3",
   "version": "3.12.1"
  }
 },
 "nbformat": 4,
 "nbformat_minor": 5
}
