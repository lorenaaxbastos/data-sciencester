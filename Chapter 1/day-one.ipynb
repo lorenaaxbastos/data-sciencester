{
 "cells": [
  {
   "cell_type": "code",
   "execution_count": 1,
   "id": "9bc68318-d386-416b-a3ac-db8a3caa2546",
   "metadata": {},
   "outputs": [],
   "source": [
    "from pprint import pprint"
   ]
  },
  {
   "cell_type": "markdown",
   "id": "e41fde2e-ad80-4a07-bd6a-6a5dd2072a5a",
   "metadata": {},
   "source": [
    "## Problem statement: Identifying key connectors among data scientists"
   ]
  },
  {
   "cell_type": "code",
   "execution_count": 15,
   "id": "826d56ba-e2ab-4628-9b19-baf2b2f3ac25",
   "metadata": {},
   "outputs": [
    {
     "name": "stdout",
     "output_type": "stream",
     "text": [
      "{0: [1, 2],\n",
      " 1: [0, 2, 3],\n",
      " 2: [0, 1, 3],\n",
      " 3: [1, 2, 4],\n",
      " 4: [3, 5],\n",
      " 5: [4, 6, 7],\n",
      " 6: [5, 8],\n",
      " 7: [5, 8],\n",
      " 8: [6, 7, 9],\n",
      " 9: [8]}\n"
     ]
    }
   ],
   "source": [
    "# datadump from Data Sciencester network\n",
    "users = [\n",
    "    {\"id\": 0, \"name\": \"Hero\"},\n",
    "    {\"id\": 1, \"name\": \"Dunn\"},\n",
    "    {\"id\": 2, \"name\": \"Sue\"},\n",
    "    {\"id\": 3, \"name\": \"Chi\"},\n",
    "    {\"id\": 4, \"name\": \"Thor\"},\n",
    "    {\"id\": 5, \"name\": \"Clive\"},\n",
    "    {\"id\": 6, \"name\": \"Hicks\"},\n",
    "    {\"id\": 7, \"name\": \"Devin\"},\n",
    "    {\"id\": 8, \"name\": \"Kate\"},\n",
    "    {\"id\": 9, \"name\": \"Klein\"},\n",
    "]\n",
    "friendship_pairs = [(0, 1), (0, 2), (1, 2), (1, 3), (2, 3), (3, 4),\n",
    "                    (4, 5), (5, 6), (5, 7), (6, 8), (7, 8), (8, 9)]\n",
    "interests = [\n",
    "    (0, \"Hadoop\"), (0, \"Big Data\"), (0, \"HBase\"), (0, \"Java\"),\n",
    "    (0, \"Spark\"), (0, \"Storm\"), (0, \"Cassandra\"),\n",
    "    (1, \"NoSQL\"), (1, \"MongoDB\"), (1, \"Cassandra\"), (1, \"HBase\"),\n",
    "    (1, \"Postgres\"), (2, \"Python\"), (2, \"scikit-learn\"), (2, \"scipy\"),\n",
    "    (2, \"numpy\"), (2, \"statsmodel\"), (2, \"pandas\"), (3, \"R\"), (3, \"Python\"),\n",
    "    (3, \"statistics\"), (3, \"regression\"), (3, \"probability\"),\n",
    "    (4, \"machine learning\"), (4, \"regression\"), (4, \"decision trees\"),\n",
    "    (4, \"libsvm\"), (5, \"Python\"), (5, \"R\"), (5, \"Java\"), (5, \"C++\"),\n",
    "    (5, \"Haskell\"), (5, \"programming languages\"), (6, \"statistics\"),\n",
    "    (6, \"probability\"), (6, \"mathematics\"), (6, \"theory\"),\n",
    "    (7, \"machine learning\"), (7, \"scikit-learn\"), (7, \"Mahout\"),\n",
    "    (7, \"neural networks\"), (8, \"neural networks\"), (8, \"deep learning\"),\n",
    "    (8, \"Big Data\"), (8, \"artificial intelligence\"), (9, \"Hadoop\"),\n",
    "    (9, \"Java\"), (9, \"MapReduce\"), (9, \"Big Data\")\n",
    "]\n",
    "\n",
    "salaries_and_tenures = [\n",
    "    (83000, 8.7),\n",
    "    (88000, 8.1),\n",
    "    (48000, 0.7),\n",
    "    (76000, 6),\n",
    "    (69000, 6.5),\n",
    "    (76000, 7.5),\n",
    "    (60000, 2.5),\n",
    "    (83000, 10),\n",
    "    (48000, 1.9),\n",
    "    (63000, 4.2)\n",
    "]\n",
    "\n",
    "paid_acc_by_years_of_experience = [\n",
    "    (0.7, \"paid\"),\n",
    "    (1.9, \"unpaid\"),\n",
    "    (2.5, \"paid\"),\n",
    "    (4.2, \"unpaid\"),\n",
    "    (6, \"unpaid\"),\n",
    "    (6.5, \"unpaid\"),\n",
    "    (7.5, \"unpaid\"),\n",
    "    (8.1, \"unpaid\"),\n",
    "    (8.7, \"paid\"),\n",
    "    (10, \"paid\"),\n",
    "]\n",
    "\n",
    "# improving friends lookout by id\n",
    "friendships = {}\n",
    "\n",
    "for i, j in friendship_pairs:\n",
    "    friendships.setdefault(i, []).append(j)\n",
    "    friendships.setdefault(j, []).append(i)\n",
    "\n",
    "pprint(friendships)"
   ]
  },
  {
   "cell_type": "markdown",
   "id": "ae3ac9a3-2cfd-4c05-8036-1edf31bf15e1",
   "metadata": {},
   "source": [
    "### Determining the average number of connections"
   ]
  },
  {
   "cell_type": "code",
   "execution_count": 3,
   "id": "33e3391a-1873-41b7-b46b-ca1f9d0c1548",
   "metadata": {},
   "outputs": [
    {
     "name": "stdout",
     "output_type": "stream",
     "text": [
      "Average number of connections: 2.4\n"
     ]
    }
   ],
   "source": [
    "avg_connections = sum(len(friends) for friends in friendships.values()) / len(friendships)\n",
    "print(\"Average number of connections:\", round(avg_connections, 2))"
   ]
  },
  {
   "cell_type": "markdown",
   "id": "631dd833-41e5-453f-8be2-45f405e33fe3",
   "metadata": {},
   "source": [
    "### Identifying the most connected individual\n",
    "\r\n",
    "This concept is commonly referred to as degree centrality."
   ]
  },
  {
   "cell_type": "code",
   "execution_count": 4,
   "id": "22a735a1-a1ca-4346-b324-93ffc7831f54",
   "metadata": {},
   "outputs": [
    {
     "name": "stdout",
     "output_type": "stream",
     "text": [
      "List of connections, sorted from the most connected to the least connected:\n",
      "[(1, 3), (2, 3), (3, 3), (5, 3), (8, 3), (0, 2), (4, 2), (6, 2), (7, 2), (9, 1)]\n"
     ]
    }
   ],
   "source": [
    "connections_by_id = [(id, len(friends)) for id, friends in friendships.items()]\n",
    "connections_by_id.sort(key=lambda pair: pair[1], reverse=True)\n",
    "print(\"List of connections, sorted from the most connected to the least connected:\\n\", connections_by_id, sep=\"\")"
   ]
  },
  {
   "cell_type": "markdown",
   "id": "f5b0f1d1-0721-43b2-a0aa-a3ce58e66f54",
   "metadata": {},
   "source": [
    "## Problem statement: Generating friends suggestions"
   ]
  },
  {
   "cell_type": "markdown",
   "id": "42f52ed6-0646-483e-a87c-53cf77385859",
   "metadata": {},
   "source": [
    "### Derived from shared connections"
   ]
  },
  {
   "cell_type": "code",
   "execution_count": 5,
   "id": "d6cb9916-e8a0-443c-96f9-434209a1d82b",
   "metadata": {},
   "outputs": [],
   "source": [
    "from collections import Counter"
   ]
  },
  {
   "cell_type": "code",
   "execution_count": 6,
   "id": "cad0bc6f-7410-4fe9-8695-157ce713754f",
   "metadata": {},
   "outputs": [
    {
     "name": "stdout",
     "output_type": "stream",
     "text": [
      "{0: {3: 2},\n",
      " 1: {4: 1},\n",
      " 2: {4: 1},\n",
      " 3: {0: 2, 5: 1},\n",
      " 4: {1: 1, 2: 1, 6: 1, 7: 1},\n",
      " 5: {3: 1, 8: 2},\n",
      " 6: {4: 1, 7: 2, 9: 1},\n",
      " 7: {4: 1, 6: 2, 9: 1},\n",
      " 8: {5: 2},\n",
      " 9: {6: 1, 7: 1}}\n"
     ]
    }
   ],
   "source": [
    "def friends_of_friends_count(id):\n",
    "    return Counter(friend_of_friend # user may know this person\n",
    "                for friend in friendships[id]\n",
    "                for friend_of_friend in friendships[friend]\n",
    "                if friend_of_friend not in friendships[id] # not the user's friends\n",
    "                and friend_of_friend != id) # not the user itself\n",
    "\n",
    "suggested_by_common_friends = {\n",
    "    id:dict(friends_of_friends_count(id))\n",
    "    for id in friendships\n",
    "}\n",
    "\n",
    "pprint(suggested_by_common_friends)"
   ]
  },
  {
   "cell_type": "markdown",
   "id": "d2a75afa-7fa6-46e9-85cd-8c7bf45bd30f",
   "metadata": {},
   "source": [
    "### Derived from common interests"
   ]
  },
  {
   "cell_type": "code",
   "execution_count": 7,
   "id": "318b464e-9737-461e-a6aa-f9d5af6ce55e",
   "metadata": {},
   "outputs": [
    {
     "name": "stdout",
     "output_type": "stream",
     "text": [
      "{'Big Data': [0, 8, 9],\n",
      " 'C++': [5],\n",
      " 'Cassandra': [0, 1],\n",
      " 'HBase': [0, 1],\n",
      " 'Hadoop': [0, 9],\n",
      " 'Haskell': [5],\n",
      " 'Java': [0, 5, 9],\n",
      " 'Mahout': [7],\n",
      " 'MapReduce': [9],\n",
      " 'MongoDB': [1],\n",
      " 'NoSQL': [1],\n",
      " 'Postgres': [1],\n",
      " 'Python': [2, 3, 5],\n",
      " 'R': [3, 5],\n",
      " 'Spark': [0],\n",
      " 'Storm': [0],\n",
      " 'artificial intelligence': [8],\n",
      " 'decision trees': [4],\n",
      " 'deep learning': [8],\n",
      " 'libsvm': [4],\n",
      " 'machine learning': [4, 7],\n",
      " 'mathematics': [6],\n",
      " 'neural networks': [7, 8],\n",
      " 'numpy': [2],\n",
      " 'pandas': [2],\n",
      " 'probability': [3, 6],\n",
      " 'programming languages': [5],\n",
      " 'regression': [3, 4],\n",
      " 'scikit-learn': [2, 7],\n",
      " 'scipy': [2],\n",
      " 'statistics': [3, 6],\n",
      " 'statsmodel': [2],\n",
      " 'theory': [6]}\n"
     ]
    }
   ],
   "source": [
    "ids_by_interests = {}\n",
    "\n",
    "for id, interest in interests:\n",
    "    ids_by_interests.setdefault(interest, []).append(id)\n",
    "\n",
    "pprint(ids_by_interests)"
   ]
  },
  {
   "cell_type": "code",
   "execution_count": 8,
   "id": "5e418fe9-8188-470d-a877-6fc58b9c3243",
   "metadata": {},
   "outputs": [
    {
     "name": "stdout",
     "output_type": "stream",
     "text": [
      "{0: ['Hadoop', 'Big Data', 'HBase', 'Java', 'Spark', 'Storm', 'Cassandra'],\n",
      " 1: ['NoSQL', 'MongoDB', 'Cassandra', 'HBase', 'Postgres'],\n",
      " 2: ['Python', 'scikit-learn', 'scipy', 'numpy', 'statsmodel', 'pandas'],\n",
      " 3: ['R', 'Python', 'statistics', 'regression', 'probability'],\n",
      " 4: ['machine learning', 'regression', 'decision trees', 'libsvm'],\n",
      " 5: ['Python', 'R', 'Java', 'C++', 'Haskell', 'programming languages'],\n",
      " 6: ['statistics', 'probability', 'mathematics', 'theory'],\n",
      " 7: ['machine learning', 'scikit-learn', 'Mahout', 'neural networks'],\n",
      " 8: ['neural networks', 'deep learning', 'Big Data', 'artificial intelligence'],\n",
      " 9: ['Hadoop', 'Java', 'MapReduce', 'Big Data']}\n"
     ]
    }
   ],
   "source": [
    "interests_by_id = {}\n",
    "\n",
    "for id, interest in interests:\n",
    "    interests_by_id.setdefault(id, []).append(interest)\n",
    "\n",
    "pprint(interests_by_id)"
   ]
  },
  {
   "cell_type": "code",
   "execution_count": 26,
   "id": "ee92843f-1a5c-4b23-ba70-b311ce141fe4",
   "metadata": {},
   "outputs": [
    {
     "name": "stdout",
     "output_type": "stream",
     "text": [
      "User with most common interests with user 0: 9\n"
     ]
    }
   ],
   "source": [
    "def most_common_interests_with(id):\n",
    "    return max(Counter(other_id\n",
    "                    for interest in interests_by_id[id]\n",
    "                    for other_id in ids_by_interests[interest]\n",
    "                    if other_id != id))\n",
    "\n",
    "print(f\"User with most common interests with user 0:\", most_common_interests_with(0))"
   ]
  },
  {
   "cell_type": "markdown",
   "id": "06d18569-61c0-4931-a170-28c08a029770",
   "metadata": {},
   "source": [
    "## Problem statement: Relationship between salary and experience"
   ]
  },
  {
   "cell_type": "markdown",
   "id": "3a7249e1-2a79-4ae4-a347-e8c1359a6c24",
   "metadata": {},
   "source": [
    "### Plotting data for analysis"
   ]
  },
  {
   "cell_type": "code",
   "execution_count": 13,
   "id": "b7c32d16-2937-476e-b477-759991473d6e",
   "metadata": {},
   "outputs": [],
   "source": [
    "import matplotlib.pyplot as plt"
   ]
  },
  {
   "cell_type": "code",
   "execution_count": 16,
   "id": "16e4254f-91f5-4bca-a19b-ba4dec637b95",
   "metadata": {},
   "outputs": [
    {
     "data": {
      "image/png": "[encoded data removed]",
      "text/plain": [
       "<Figure size 640x480 with 1 Axes>"
      ]
     },
     "metadata": {},
     "output_type": "display_data"
    }
   ],
   "source": [
    "salaries_and_tenures.sort(key=lambda pair: pair[1])\n",
    "salaries = [salary for salary, tenure in salaries_and_tenures]\n",
    "tenures = [tenure for salary, tenure in salaries_and_tenures]\n",
    "\n",
    "plt.plot(tenures, salaries, \"o\")\n",
    "plt.ylim(40_000, 100_000)\n",
    "plt.title(\"Salary by years of experience\")\n",
    "plt.xlabel(\"Years of experience\")\n",
    "plt.ylabel(\"Salary\")\n",
    "plt.show()"
   ]
  },
  {
   "cell_type": "markdown",
   "id": "1db7e77d-9738-4f94-adce-1295d5e96cdd",
   "metadata": {},
   "source": [
    "### Calculating average salary by years of experience"
   ]
  },
  {
   "cell_type": "code",
   "execution_count": 30,
   "id": "d3ee2365-fc85-4c31-986f-00bfebf7c4ab",
   "metadata": {},
   "outputs": [
    {
     "name": "stdout",
     "output_type": "stream",
     "text": [
      "Average salary by years of experience: $19495.44\n"
     ]
    }
   ],
   "source": [
    "avg_salary_by_years = sum(salary / tenure for salary, tenure in salaries_and_tenures) / len(salaries_and_tenures)\n",
    "print(f\"Average salary by years of experience: ${round(avg_salary_by_years, 2)}\")"
   ]
  },
  {
   "cell_type": "markdown",
   "id": "39692d3f-95ca-4d89-9800-e2d5d76a1aa1",
   "metadata": {},
   "source": [
    "### Creating tenure buckets for salaries"
   ]
  },
  {
   "cell_type": "code",
   "execution_count": 31,
   "id": "fe67c179-b3ef-418f-8cff-579dc8424c39",
   "metadata": {},
   "outputs": [
    {
     "name": "stdout",
     "output_type": "stream",
     "text": [
      "{'between 2 and 5': [60000, 63000],\n",
      " 'less than 2': [48000, 48000],\n",
      " 'more than 5': [76000, 69000, 76000, 88000, 83000, 83000]}\n"
     ]
    }
   ],
   "source": [
    "def tenure_bucket(tenure):\n",
    "    if tenure < 2:\n",
    "        return \"less than 2\"\n",
    "    elif tenure < 5:\n",
    "        return \"between 2 and 5\"\n",
    "    else:\n",
    "        return \"more than 5\"\n",
    "\n",
    "salary_by_tenure_buckets = {}\n",
    "\n",
    "for salary, tenure in salaries_and_tenures:\n",
    "    salary_by_tenure_buckets.setdefault(tenure_bucket(tenure), []).append(salary)\n",
    "\n",
    "pprint(salary_by_tenure_buckets)"
   ]
  },
  {
   "cell_type": "markdown",
   "id": "ecd2ad23-779d-4782-ad54-2cd2df83ced9",
   "metadata": {},
   "source": [
    "### Calculating average salary by tenure bucket"
   ]
  },
  {
   "cell_type": "code",
   "execution_count": 32,
   "id": "9b3d2f92-ceb4-4098-a782-bbaf744fa1b3",
   "metadata": {},
   "outputs": [
    {
     "name": "stdout",
     "output_type": "stream",
     "text": [
      "{'between 2 and 5': 61500.0,\n",
      " 'less than 2': 48000.0,\n",
      " 'more than 5': 79166.66666666667}\n"
     ]
    }
   ],
   "source": [
    "avg_salary_by_bucket = {\n",
    "    bucket:sum(salaries) / len(salaries)\n",
    "    for bucket, salaries in salary_by_tenure_buckets.items()\n",
    "}\n",
    "\n",
    "pprint(avg_salary_by_bucket)"
   ]
  },
  {
   "cell_type": "markdown",
   "id": "ca6cd766-26e6-4dd1-ad35-e16a1a2bb2fd",
   "metadata": {},
   "source": [
    "## Problem statement: Relationship between paid accounts and experience"
   ]
  },
  {
   "cell_type": "markdown",
   "id": "51b25292-7785-4ca9-a78b-bfb7e3e66478",
   "metadata": {},
   "source": [
    "### Predicting paid accounts based on tenure buckets"
   ]
  },
  {
   "cell_type": "code",
   "execution_count": 33,
   "id": "06ab01a4-4efa-4a1c-81af-26ab594ebb73",
   "metadata": {},
   "outputs": [],
   "source": [
    "def predict_paid_acc(years_of_xp):\n",
    "    if years_of_xp < 3 or years_of_xp >= 8.5:\n",
    "        return \"paid\"\n",
    "    else:\n",
    "        return \"unpaid\""
   ]
  },
  {
   "cell_type": "markdown",
   "id": "e0126421-b04f-41e0-be70-910ba53c2780",
   "metadata": {},
   "source": [
    "## Problem statement: Finding most frequent words for blog posts"
   ]
  },
  {
   "cell_type": "markdown",
   "id": "c3f0f8d6-0038-4339-89bd-9c1dbca1dc06",
   "metadata": {},
   "source": [
    "### Counting the words of user's interests"
   ]
  },
  {
   "cell_type": "code",
   "execution_count": 22,
   "id": "3585497d-4c74-4fcc-987e-73feb5d717a5",
   "metadata": {},
   "outputs": [
    {
     "data": {
      "text/plain": [
       "Counter({'big': 3,\n",
       "         'data': 3,\n",
       "         'java': 3,\n",
       "         'python': 3,\n",
       "         'learning': 3,\n",
       "         'hadoop': 2,\n",
       "         'hbase': 2,\n",
       "         'cassandra': 2,\n",
       "         'scikit-learn': 2,\n",
       "         'r': 2,\n",
       "         'statistics': 2,\n",
       "         'regression': 2,\n",
       "         'probability': 2,\n",
       "         'machine': 2,\n",
       "         'neural': 2,\n",
       "         'networks': 2,\n",
       "         'spark': 1,\n",
       "         'storm': 1,\n",
       "         'nosql': 1,\n",
       "         'mongodb': 1,\n",
       "         'postgres': 1,\n",
       "         'scipy': 1,\n",
       "         'numpy': 1,\n",
       "         'statsmodel': 1,\n",
       "         'pandas': 1,\n",
       "         'decision': 1,\n",
       "         'trees': 1,\n",
       "         'libsvm': 1,\n",
       "         'c++': 1,\n",
       "         'haskell': 1,\n",
       "         'programming': 1,\n",
       "         'languages': 1,\n",
       "         'mathematics': 1,\n",
       "         'theory': 1,\n",
       "         'mahout': 1,\n",
       "         'deep': 1,\n",
       "         'artificial': 1,\n",
       "         'intelligence': 1,\n",
       "         'mapreduce': 1})"
      ]
     },
     "execution_count": 22,
     "metadata": {},
     "output_type": "execute_result"
    }
   ],
   "source": [
    "interests_count = Counter(\n",
    "    word.lower()\n",
    "    for user_id, interest in interests\n",
    "    for word in interest.split()\n",
    ")\n",
    "\n",
    "interests_count"
   ]
  },
  {
   "cell_type": "markdown",
   "id": "34236575-61df-4484-aa62-04b4ca066960",
   "metadata": {},
   "source": [
    "### Filtering words count greater than one"
   ]
  },
  {
   "cell_type": "code",
   "execution_count": 23,
   "id": "3e9b452d-3918-48ea-a8d1-a657493c3725",
   "metadata": {},
   "outputs": [
    {
     "name": "stdout",
     "output_type": "stream",
     "text": [
      "big: 3\n",
      "data: 3\n",
      "java: 3\n",
      "python: 3\n",
      "learning: 3\n",
      "hadoop: 2\n",
      "hbase: 2\n",
      "cassandra: 2\n",
      "scikit-learn: 2\n",
      "r: 2\n",
      "statistics: 2\n",
      "regression: 2\n",
      "probability: 2\n",
      "machine: 2\n",
      "neural: 2\n",
      "networks: 2\n"
     ]
    }
   ],
   "source": [
    "for word, count_ in sorted(interests_count.items(), key=lambda pair: (pair[1]), reverse=True):\n",
    "    if count_ > 1:\n",
    "        print(f\"{word}: {count_}\")"
   ]
  }
 ],
 "metadata": {
  "kernelspec": {
   "display_name": "Python 3 (ipykernel)",
   "language": "python",
   "name": "python3"
  },
  "language_info": {
   "codemirror_mode": {
    "name": "ipython",
    "version": 3
   },
   "file_extension": ".py",
   "mimetype": "text/x-python",
   "name": "python",
   "nbconvert_exporter": "python",
   "pygments_lexer": "ipython3",
   "version": "3.12.2"
  }
 },
 "nbformat": 4,
 "nbformat_minor": 5
}
